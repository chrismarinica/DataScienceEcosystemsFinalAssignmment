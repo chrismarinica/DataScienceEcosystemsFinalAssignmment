{
 "cells": [
  {
   "cell_type": "markdown",
   "id": "9c393ef1",
   "metadata": {},
   "source": [
    "# Data Science Tools and Ecosystem"
   ]
  },
  {
   "cell_type": "markdown",
   "id": "d98914dc",
   "metadata": {},
   "source": [
    "In this notebook, Data Science Tools and Ecosystem are summarized."
   ]
  },
  {
   "cell_type": "markdown",
   "id": "9011cca0",
   "metadata": {},
   "source": [
    "Some of the popular languages that Data Scientists use are:\n",
    "[1 Python, 2 R, 3 SQL]"
   ]
  },
  {
   "cell_type": "markdown",
   "id": "c41a11a7",
   "metadata": {},
   "source": [
    "Some of the commonly used libraries used by Data Scientists include:\n",
    "[1 NumPy, 2 Pandas, 3 TensorFlow]"
   ]
  },
  {
   "cell_type": "markdown",
   "id": "0a4acdf3",
   "metadata": {},
   "source": [
    "| Data Science Tools   |\n",
    "|----------------------|\n",
    "| Jupyter Notebook     |\n",
    "| Visual Studio Code   |\n",
    "| RStudio              |"
   ]
  },
  {
   "cell_type": "markdown",
   "id": "b6f9f8b8",
   "metadata": {},
   "source": [
    "### Below are a few examples of evaluating arithmetic expressions in Python\n"
   ]
  },
  {
   "cell_type": "code",
   "execution_count": 1,
   "id": "9eee86f6",
   "metadata": {},
   "outputs": [
    {
     "data": {
      "text/plain": [
       "17"
      ]
     },
     "execution_count": 1,
     "metadata": {},
     "output_type": "execute_result"
    }
   ],
   "source": [
    "# This a simple arithmetic expression to mutiply then add integers\n",
    "(3*4)+5"
   ]
  },
  {
   "cell_type": "code",
   "execution_count": 2,
   "id": "0f6c532d",
   "metadata": {},
   "outputs": [
    {
     "data": {
      "text/plain": [
       "3.3333333333333335"
      ]
     },
     "execution_count": 2,
     "metadata": {},
     "output_type": "execute_result"
    }
   ],
   "source": [
    "# This will convert 200 minutes to hours by diving by 60\n",
    "200/60"
   ]
  },
  {
   "cell_type": "markdown",
   "id": "f03519bd",
   "metadata": {},
   "source": [
    "**Objectives:**\n",
    "- Summarize Data Science Tools and Ecosystems\n",
    "- List popular languages for Data Science\n",
    "- List common libraries used by Data Scientists"
   ]
  },
  {
   "cell_type": "markdown",
   "id": "1b8b87a8",
   "metadata": {},
   "source": [
    "## Author\n",
    "Chris Marinica"
   ]
  }
 ],
 "metadata": {
  "kernelspec": {
   "display_name": "Python 3 (ipykernel)",
   "language": "python",
   "name": "python3"
  },
  "language_info": {
   "codemirror_mode": {
    "name": "ipython",
    "version": 3
   },
   "file_extension": ".py",
   "mimetype": "text/x-python",
   "name": "python",
   "nbconvert_exporter": "python",
   "pygments_lexer": "ipython3",
   "version": "3.10.11"
  }
 },
 "nbformat": 4,
 "nbformat_minor": 5
}
